{
 "cells": [
  {
   "cell_type": "code",
   "execution_count": null,
   "metadata": {},
   "outputs": [],
   "source": [
    "import open3d as o3d\n",
    "import numpy as np\n",
    "from open3d.geometry import TriangleMesh"
   ]
  },
  {
   "cell_type": "code",
   "execution_count": null,
   "metadata": {},
   "outputs": [],
   "source": [
    "input_pcd = o3d.io.read_point_cloud('combined_point_cloud.ply')\n",
    "vis = o3d.visualization.Visualizer()\n",
    "vis.create_window()\n",
    "vis.add_geometry(input_pcd)\n",
    "vis.poll_events()\n",
    "vis.update_renderer()\n",
    "vis.run()\n",
    "vis.destroy_window()"
   ]
  },
  {
   "cell_type": "code",
   "execution_count": null,
   "metadata": {},
   "outputs": [],
   "source": [
    "# Load point cloud\n",
    "input_pcd = o3d.io.read_point_cloud(\"learning3d/output_point_clouds/input_0.ply\")\n",
    "predicted_pcd = o3d.io.read_point_cloud(\"learning3d/output_point_clouds/predicted_0.ply\")\n",
    "predicted_pcd.translate([2.0, 0.0, 0.0])\n",
    "\n",
    "input_pcd_2 = o3d.io.read_point_cloud(\"learning3d/output_point_clouds/input_0.ply\")\n",
    "predicted_pcd_2 = o3d.io.read_point_cloud(\"learning3d/output_point_clouds/predicted_0.ply\")\n",
    "input_pcd_2.translate([4.0, 0.0, 0.0])\n",
    "predicted_pcd_2.translate([4.0, 0.0, 0.0])\n"
   ]
  },
  {
   "cell_type": "code",
   "execution_count": null,
   "metadata": {},
   "outputs": [],
   "source": [
    "import time\n",
    "# Simple visualization\n",
    "vis = o3d.visualization.Visualizer()\n",
    "vis.create_window()\n",
    "vis.add_geometry(input_pcd)\n",
    "vis.add_geometry(predicted_pcd)\n",
    "vis.add_geometry(input_pcd_2)\n",
    "vis.add_geometry(predicted_pcd_2)\n",
    "vis.poll_events()\n",
    "vis.update_renderer()\n",
    "vis.run()\n",
    "vis.destroy_window()\n",
    "#o3d.visualization.draw_geometries([input_pcd])\n",
    "#o3d.visualization.draw_geometries([predicted_pcd])\n",
    "# Customize point cloud visualization\n",
    "#pcd.paint_uniform_color([0, 0.7, 0])  # Color the point cloud green\n",
    "#o3d.visualization.draw_geometries([pcd])"
   ]
  },
  {
   "cell_type": "code",
   "execution_count": null,
   "metadata": {},
   "outputs": [],
   "source": [
    "# Create mesh from point cloud\n",
    "pcd.estimate_normals()\n",
    "mesh, densities = o3d.geometry.TriangleMesh.create_from_point_cloud_poisson(pcd, depth=9)\n",
    "\n",
    "# Clean the mesh\n",
    "#mesh.remove_duplicate_vertices()\n",
    "mesh.remove_degenerate_triangles()\n",
    "mesh.paint_uniform_color([0.7, 0.7, 0.7])  # Gray color\n",
    "\n",
    "# Visualize reconstructed mesh\n",
    "o3d.visualization.draw_geometries([mesh])"
   ]
  },
  {
   "cell_type": "code",
   "execution_count": null,
   "metadata": {},
   "outputs": [],
   "source": [
    "# Alternative mesh reconstruction\n",
    "pcd.estimate_normals()\n",
    "distances = pcd.compute_nearest_neighbor_distance()\n",
    "avg_dist = np.mean(distances)\n",
    "radii = [avg_dist, avg_dist*2]\n",
    "mesh = o3d.geometry.TriangleMesh.create_from_point_cloud_ball_pivoting(pcd, o3d.utility.DoubleVector(radii))\n",
    "\n",
    "# Visualize\n",
    "o3d.visualization.draw_geometries([mesh])"
   ]
  },
  {
   "cell_type": "code",
   "execution_count": null,
   "metadata": {},
   "outputs": [],
   "source": [
    "# Detailed rendering with multiple processing steps\n",
    "def process_point_cloud(pcd):\n",
    "    # Downsample to reduce computational load\n",
    "    pcd_down = pcd.voxel_down_sample(voxel_size=0.05)\n",
    "    \n",
    "    # Estimate normals for better reconstruction\n",
    "    pcd_down.estimate_normals()\n",
    "    pcd_down.orient_normals_consistent_tangent_plane(100)\n",
    "    \n",
    "    # Poisson reconstruction\n",
    "    mesh, _ = o3d.geometry.TriangleMesh.create_from_point_cloud_poisson(pcd_down, depth=9)\n",
    "    \n",
    "    # Optional: remove outliers and smooth the mesh\n",
    "    mesh.remove_duplicate_vertices()\n",
    "    mesh.remove_degenerate_triangles()\n",
    "    mesh.filter_smooth_simple(number_of_iterations=1)\n",
    "    \n",
    "    # Add some color and rendering properties\n",
    "    mesh.paint_uniform_color([0.8, 0.8, 0.8])  # Light gray\n",
    "    mesh.compute_vertex_normals()\n",
    "    \n",
    "    return mesh"
   ]
  },
  {
   "cell_type": "code",
   "execution_count": null,
   "metadata": {},
   "outputs": [],
   "source": [
    "# Process and render\n",
    "mesh = process_point_cloud(pcd)\n",
    "o3d.visualization.draw_geometries([mesh])"
   ]
  },
  {
   "cell_type": "code",
   "execution_count": null,
   "metadata": {},
   "outputs": [],
   "source": [
    "# Render with custom rendering options\n",
    "vis = o3d.visualization.Visualizer()\n",
    "vis.create_window()\n",
    "vis.add_geometry(mesh)\n",
    "\n",
    "# Customize rendering\n",
    "render_option = vis.get_render_option()\n",
    "render_option.background_color = np.asarray([0.1, 0.1, 0.1])  # Dark background\n",
    "render_option.point_size = 1.0\n",
    "render_option.line_width = 1.0\n",
    "\n",
    "vis.run()\n",
    "vis.destroy_window()"
   ]
  },
  {
   "cell_type": "code",
   "execution_count": null,
   "metadata": {},
   "outputs": [],
   "source": [
    "print(\"Downsample the point cloud with a voxel of 0.05\")\n",
    "downpcd = pcd.voxel_down_sample(voxel_size=0.05)\n",
    "o3d.visualization.draw_geometries([downpcd],\n",
    "                                  zoom=0.3412,\n",
    "                                  front=[0.4257, -0.2125, -0.8795],\n",
    "                                  lookat=[2.6172, 2.0475, 1.532],\n",
    "                                  up=[-0.0694, -0.9768, 0.2024])"
   ]
  }
 ],
 "metadata": {
  "kernelspec": {
   "display_name": "cs153",
   "language": "python",
   "name": "python3"
  },
  "language_info": {
   "codemirror_mode": {
    "name": "ipython",
    "version": 3
   },
   "file_extension": ".py",
   "mimetype": "text/x-python",
   "name": "python",
   "nbconvert_exporter": "python",
   "pygments_lexer": "ipython3",
   "version": "3.9.21"
  }
 },
 "nbformat": 4,
 "nbformat_minor": 2
}
